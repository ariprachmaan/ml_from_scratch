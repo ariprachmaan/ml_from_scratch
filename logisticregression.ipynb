{
 "cells": [
  {
   "cell_type": "code",
   "execution_count": 1,
   "metadata": {},
   "outputs": [],
   "source": [
    "# Importing necessary libraries\n",
    "import numpy as np\n",
    "from sklearn.datasets import make_classification\n",
    "from sklearn.model_selection import train_test_split\n",
    "from ml_from_scratch import LogisticRegression\n",
    "from evaluation import confusion_matrix"
   ]
  },
  {
   "cell_type": "code",
   "execution_count": 5,
   "metadata": {},
   "outputs": [
    {
     "name": "stdout",
     "output_type": "stream",
     "text": [
      "X (features):\n",
      "[[ 0.96479937 -0.06644898  0.98676805 -0.35807945  0.99726557  1.18189004\n",
      "  -1.61567885 -1.2101605  -0.62807677  1.22727382]\n",
      " [-0.91651053 -0.56639459 -1.00861409  0.83161679 -1.17696211  1.82054391\n",
      "   1.75237485 -0.98453405  0.36389642  0.20947008]\n",
      " [-0.10948373 -0.43277388 -0.4576493   0.79381847 -0.26864575 -1.83635978\n",
      "   1.23908594 -0.2463834  -1.05814521 -0.29737608]\n",
      " [ 1.75041163  2.02360622  1.68815935  0.00679984 -1.60766103  0.18474058\n",
      "  -2.61942676 -0.35744542 -1.47312719 -0.19003904]\n",
      " [-0.22472606 -0.71130323 -0.22077758  0.11712422  1.53606118  0.59753771\n",
      "   0.34864462 -0.93915557  0.17591477  0.23622365]]\n",
      "\n",
      "y (labels):\n",
      "[0 1 1 0 1]\n"
     ]
    }
   ],
   "source": [
    "# Create synthetic data for testing\n",
    "X, y = make_classification(n_samples=1000, n_features=10, n_classes=2, random_state=42)\n",
    "\n",
    "# Print the first 5 rows of features\n",
    "print(\"X (features):\")\n",
    "print(X[:5])\n",
    "\n",
    "# Print the first 5 labels\n",
    "print(\"\\ny (labels):\")\n",
    "print(y[:5])"
   ]
  },
  {
   "cell_type": "code",
   "execution_count": 6,
   "metadata": {},
   "outputs": [
    {
     "name": "stdout",
     "output_type": "stream",
     "text": [
      "X train shape: (800, 10)\n",
      "y train shape: (800,)\n",
      "X test shape : (200, 10)\n",
      "y test shape : (200,)\n"
     ]
    }
   ],
   "source": [
    "# Splitting the data into train and test sets\n",
    "X_train, X_test, y_train, y_test = train_test_split(X, y, test_size=0.2, random_state=42)\n",
    "\n",
    "# Print the shapes of training and test data\n",
    "print(\"X train shape:\", X_train.shape)\n",
    "print(\"y train shape:\", y_train.shape)\n",
    "print(\"X test shape :\", X_test.shape)\n",
    "print(\"y test shape :\", y_test.shape)"
   ]
  },
  {
   "cell_type": "code",
   "execution_count": 8,
   "metadata": {},
   "outputs": [
    {
     "name": "stdout",
     "output_type": "stream",
     "text": [
      "Predicted probabilities:\n",
      " [0.24576915 0.9432837  0.38067184 0.85584416 0.06634151]\n",
      "Predicted values:\n",
      " [0 1 0 1 0]\n"
     ]
    }
   ],
   "source": [
    "# Creating an instance of LogisticRegression\n",
    "clf = LogisticRegression(learning_rate=0.01, num_iterations=1000, tol=1e-5)\n",
    "\n",
    "# Fitting the model to the training data\n",
    "clf.fit(X_train, y_train)\n",
    "\n",
    "# Making predictions on the test data\n",
    "y_pred = clf.predict(X_test)\n",
    "\n",
    "# Calculate predicted probabilities on the test data\n",
    "y_pred_proba = clf.predict_proba(X_test)\n",
    "\n",
    "# Printing the predicted probabilities\n",
    "print(\"Predicted probabilities:\\n\", y_pred_proba[:5])\n",
    "\n",
    "# Printing the predicted values\n",
    "print(\"Predicted values:\\n\", y_pred[:5])"
   ]
  },
  {
   "cell_type": "code",
   "execution_count": 9,
   "metadata": {},
   "outputs": [
    {
     "name": "stdout",
     "output_type": "stream",
     "text": [
      "Confusion Matrix:\n",
      " [[78 11]\n",
      " [24 87]]\n",
      "Accuracy: 0.824999999995875\n",
      "Sensitivity (Recall): 0.7837837837767226\n",
      "Precision: 0.8877551020317576\n",
      "F1 Score: 0.8325358846614317\n"
     ]
    }
   ],
   "source": [
    "# Compute the confusion matrix and evaluation metrics\n",
    "cm, accuracy, sens, prec, f_score = confusion_matrix(y_test, y_pred)\n",
    "\n",
    "# Print the results\n",
    "print(\"Confusion Matrix:\\n\", cm)\n",
    "print(\"Accuracy:\", accuracy)\n",
    "print(\"Sensitivity (Recall):\", sens)\n",
    "print(\"Precision:\", prec)\n",
    "print(\"F1 Score:\", f_score)"
   ]
  }
 ],
 "metadata": {
  "kernelspec": {
   "display_name": "base",
   "language": "python",
   "name": "python3"
  },
  "language_info": {
   "codemirror_mode": {
    "name": "ipython",
    "version": 3
   },
   "file_extension": ".py",
   "mimetype": "text/x-python",
   "name": "python",
   "nbconvert_exporter": "python",
   "pygments_lexer": "ipython3",
   "version": "3.9.13"
  }
 },
 "nbformat": 4,
 "nbformat_minor": 2
}
